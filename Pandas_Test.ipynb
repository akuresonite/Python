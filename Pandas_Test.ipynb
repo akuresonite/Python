{
 "cells": [
  {
   "cell_type": "code",
   "execution_count": null,
   "outputs": [],
   "source": [
    "import pandas as pd"
   ],
   "metadata": {
    "collapsed": false,
    "pycharm": {
     "name": "#%%\n"
    }
   }
  },
  {
   "cell_type": "code",
   "execution_count": 1,
   "outputs": [
    {
     "ename": "NameError",
     "evalue": "name 'pd' is not defined",
     "output_type": "error",
     "traceback": [
      "\u001B[1;31m---------------------------------------------------------------------------\u001B[0m",
      "\u001B[1;31mNameError\u001B[0m                                 Traceback (most recent call last)",
      "Input \u001B[1;32mIn [1]\u001B[0m, in \u001B[0;36m<cell line: 1>\u001B[1;34m()\u001B[0m\n\u001B[1;32m----> 1\u001B[0m df \u001B[38;5;241m=\u001B[39m \u001B[43mpd\u001B[49m\u001B[38;5;241m.\u001B[39mread_csv(\u001B[38;5;124m'\u001B[39m\u001B[38;5;124mD:\u001B[39m\u001B[38;5;124m\\\u001B[39m\u001B[38;5;124mAshish\u001B[39m\u001B[38;5;124m\\\u001B[39m\u001B[38;5;124mprojects\u001B[39m\u001B[38;5;124m\\\u001B[39m\u001B[38;5;124mpy\u001B[39m\u001B[38;5;130;01m\\\\\u001B[39;00m\u001B[38;5;124mNew_Text_Document.csv\u001B[39m\u001B[38;5;124m'\u001B[39m)\n",
      "\u001B[1;31mNameError\u001B[0m: name 'pd' is not defined"
     ]
    }
   ],
   "source": [
    "df = pd.read_csv('D:\\Ashish\\projects\\py\\\\New_Text_Document.csv')"
   ],
   "metadata": {
    "collapsed": false,
    "pycharm": {
     "name": "#%%\n"
    }
   }
  },
  {
   "cell_type": "code",
   "execution_count": 14,
   "outputs": [
    {
     "data": {
      "text/plain": "   Python  DeepLearning  MachineLearning  BigData  CloudComputing Placement\n0    0.80          0.57             0.63     0.50            0.34       Yes\n1    0.81          0.90             0.62     0.71            0.92        No\n2    0.49          0.69             0.62     0.64            0.41        No\n3    0.40          0.94             0.60     0.26            0.47        No\n4    0.31          0.87             1.00     0.23            0.99        No",
      "text/html": "<div>\n<style scoped>\n    .dataframe tbody tr th:only-of-type {\n        vertical-align: middle;\n    }\n\n    .dataframe tbody tr th {\n        vertical-align: top;\n    }\n\n    .dataframe thead th {\n        text-align: right;\n    }\n</style>\n<table border=\"1\" class=\"dataframe\">\n  <thead>\n    <tr style=\"text-align: right;\">\n      <th></th>\n      <th>Python</th>\n      <th>DeepLearning</th>\n      <th>MachineLearning</th>\n      <th>BigData</th>\n      <th>CloudComputing</th>\n      <th>Placement</th>\n    </tr>\n  </thead>\n  <tbody>\n    <tr>\n      <th>0</th>\n      <td>0.80</td>\n      <td>0.57</td>\n      <td>0.63</td>\n      <td>0.50</td>\n      <td>0.34</td>\n      <td>Yes</td>\n    </tr>\n    <tr>\n      <th>1</th>\n      <td>0.81</td>\n      <td>0.90</td>\n      <td>0.62</td>\n      <td>0.71</td>\n      <td>0.92</td>\n      <td>No</td>\n    </tr>\n    <tr>\n      <th>2</th>\n      <td>0.49</td>\n      <td>0.69</td>\n      <td>0.62</td>\n      <td>0.64</td>\n      <td>0.41</td>\n      <td>No</td>\n    </tr>\n    <tr>\n      <th>3</th>\n      <td>0.40</td>\n      <td>0.94</td>\n      <td>0.60</td>\n      <td>0.26</td>\n      <td>0.47</td>\n      <td>No</td>\n    </tr>\n    <tr>\n      <th>4</th>\n      <td>0.31</td>\n      <td>0.87</td>\n      <td>1.00</td>\n      <td>0.23</td>\n      <td>0.99</td>\n      <td>No</td>\n    </tr>\n  </tbody>\n</table>\n</div>"
     },
     "execution_count": 14,
     "metadata": {},
     "output_type": "execute_result"
    }
   ],
   "source": [
    "df.head()"
   ],
   "metadata": {
    "collapsed": false,
    "pycharm": {
     "name": "#%%\n"
    }
   }
  },
  {
   "cell_type": "code",
   "execution_count": 15,
   "outputs": [],
   "source": [
    "target = df['Placement']"
   ],
   "metadata": {
    "collapsed": false,
    "pycharm": {
     "name": "#%%\n"
    }
   }
  },
  {
   "cell_type": "code",
   "execution_count": 16,
   "outputs": [
    {
     "data": {
      "text/plain": "0      Yes\n1       No\n2       No\n3       No\n4       No\n      ... \n195    Yes\n196    Yes\n197    Yes\n198    Yes\n199    Yes\nName: Placement, Length: 200, dtype: object"
     },
     "execution_count": 16,
     "metadata": {},
     "output_type": "execute_result"
    }
   ],
   "source": [
    "target"
   ],
   "metadata": {
    "collapsed": false,
    "pycharm": {
     "name": "#%%\n"
    }
   }
  }
 ],
 "metadata": {
  "kernelspec": {
   "display_name": "Python 3",
   "language": "python",
   "name": "python3"
  },
  "language_info": {
   "codemirror_mode": {
    "name": "ipython",
    "version": 2
   },
   "file_extension": ".py",
   "mimetype": "text/x-python",
   "name": "python",
   "nbconvert_exporter": "python",
   "pygments_lexer": "ipython2",
   "version": "2.7.6"
  }
 },
 "nbformat": 4,
 "nbformat_minor": 0
}